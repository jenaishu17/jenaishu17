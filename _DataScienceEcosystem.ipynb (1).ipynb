{
 "cells": [
  {
   "cell_type": "markdown",
   "id": "802b83fb-43e1-4a74-84c8-2b33af9f060d",
   "metadata": {},
   "source": [
    "<strong> Exercise 2:  Create markdown cell with title of the notebook</strong>"
   ]
  },
  {
   "cell_type": "markdown",
   "id": "377c73bb-754e-47eb-a722-4377a0adc0ce",
   "metadata": {},
   "source": [
    "# Data Science Tools and Ecosystem"
   ]
  },
  {
   "cell_type": "markdown",
   "id": "66f6ad25-7da2-4085-884e-96e0c2236e4a",
   "metadata": {},
   "source": [
    "<strong> Exercise 3: Create a markdown cell for an introduction </strong>"
   ]
  },
  {
   "cell_type": "markdown",
   "id": "22f4286f-3be9-4f85-a108-1ca662f4ad6c",
   "metadata": {},
   "source": [
    "In this notebook, Data Science Tools and Ecosystem are summarized.\n"
   ]
  },
  {
   "cell_type": "markdown",
   "id": "4229afc8-1a46-4db0-8fa1-3badb60a55a0",
   "metadata": {},
   "source": [
    "**Objectives:**\n",
    "\n",
    "- Create a Jupyter notebook\n",
    "- Insert code and markdown cells\n",
    "- Share your notebook via GitHub"
   ]
  },
  {
   "cell_type": "markdown",
   "id": "0cfe2047-11df-4d27-9697-857c91039a15",
   "metadata": {},
   "source": [
    "<strong>Exercise 4 - Create a markdown cell to list data science languages </strong>"
   ]
  },
  {
   "cell_type": "markdown",
   "id": "34f6056f-b2e5-40b6-be74-70dc144f4dec",
   "metadata": {},
   "source": [
    "Some of the popular languages that Data Scientists use are:\n",
    "1. SQL\n",
    "2. R\n",
    "3. Python"
   ]
  },
  {
   "cell_type": "markdown",
   "id": "cf988c53-4698-4fd9-89d2-c51405ae24dc",
   "metadata": {},
   "source": [
    "<strong>Exercise 5 - Create a markdown cell to list data science libraries </strong>"
   ]
  },
  {
   "cell_type": "markdown",
   "id": "d03cfc0e-5869-4447-9920-e04be40255a8",
   "metadata": {},
   "source": [
    "Some of the commonly used libraries used by Data Scientists include:\n",
    "\n",
    "1. TensorFlow\n",
    "2. Matplotlib\n",
    "3. Pandas\n",
    "4. Numpy"
   ]
  },
  {
   "cell_type": "markdown",
   "id": "6b0202eb-c546-4b52-9428-8c04851074fa",
   "metadata": {},
   "source": [
    "<strong>Exercise 6 - Create a markdown cell with a table of Data Science tools. </strong>"
   ]
  },
  {
   "cell_type": "markdown",
   "id": "9eea99bf-dc45-41b1-ab1c-3b4b85e8c1d2",
   "metadata": {},
   "source": [
    "| Data Science Tools       |\n",
    "|--------------------------|\n",
    "| Jupyter Notebook         |\n",
    "| RStudio                  |\n",
    "| Apache Zeppelin          |\n"
   ]
  },
  {
   "cell_type": "markdown",
   "id": "e6a6ec30-3a42-4b03-93a2-a22c237baa12",
   "metadata": {},
   "source": [
    "<strong>Exercise 7 - Create a markdown cell introducing arithmetic expression examples</strong>"
   ]
  },
  {
   "cell_type": "markdown",
   "id": "5919efcd-a970-478a-b5ba-db29e71973da",
   "metadata": {},
   "source": [
    "<h3>Below are a few examples of evaluating arithmetic expressions in Python</h3>\n"
   ]
  },
  {
   "cell_type": "code",
   "execution_count": 13,
   "id": "40eeeaef-c9e6-49bb-8411-f697ffeb44c4",
   "metadata": {},
   "outputs": [
    {
     "data": {
      "text/plain": [
       "15"
      ]
     },
     "execution_count": 13,
     "metadata": {},
     "output_type": "execute_result"
    }
   ],
   "source": [
    "#Multiplication \n",
    "5*3"
   ]
  },
  {
   "cell_type": "code",
   "execution_count": 14,
   "id": "93032192-26eb-4330-84e5-6618c6eba1af",
   "metadata": {},
   "outputs": [
    {
     "data": {
      "text/plain": [
       "8"
      ]
     },
     "execution_count": 14,
     "metadata": {},
     "output_type": "execute_result"
    }
   ],
   "source": [
    "#Addition\n",
    "5+3"
   ]
  },
  {
   "cell_type": "markdown",
   "id": "cefb0fda-4c31-4250-bbf7-d6c47c9fd889",
   "metadata": {},
   "source": [
    "<strong>Exercise 8-  Create a code cell to multiply and add numbers</strong>"
   ]
  },
  {
   "cell_type": "markdown",
   "id": "1891dfa2-4f1c-4ea4-aadd-8ca283243926",
   "metadata": {},
   "source": [
    "This a asimple arithmetic expression to mutiply then integers"
   ]
  },
  {
   "cell_type": "code",
   "execution_count": 15,
   "id": "8203b857-76c1-40b1-80ae-ce14667674fd",
   "metadata": {},
   "outputs": [
    {
     "data": {
      "text/plain": [
       "17"
      ]
     },
     "execution_count": 15,
     "metadata": {},
     "output_type": "execute_result"
    }
   ],
   "source": [
    "(3*4)+5\n",
    "# Result: 17\n"
   ]
  },
  {
   "cell_type": "markdown",
   "id": "9b60de45-b611-4112-94f0-2b5da19938b0",
   "metadata": {},
   "source": [
    "<strong>Exercise 9- Create a code cell to convert minutes to hours</strong>"
   ]
  },
  {
   "cell_type": "markdown",
   "id": "3305347e-7e9d-4721-874e-8372423b7ed5",
   "metadata": {},
   "source": [
    "This will convert 200 minutes to hours by diving by 60."
   ]
  },
  {
   "cell_type": "code",
   "execution_count": 18,
   "id": "76f0926b-6d43-4d67-820d-abc8b1846191",
   "metadata": {},
   "outputs": [
    {
     "data": {
      "text/plain": [
       "3.3333333333333335"
      ]
     },
     "execution_count": 18,
     "metadata": {},
     "output_type": "execute_result"
    }
   ],
   "source": [
    "horas = 200/60\n",
    "horas"
   ]
  },
  {
   "cell_type": "markdown",
   "id": "ca37d956-c3cc-4094-83a5-ef56b3071192",
   "metadata": {},
   "source": [
    "<strong>Exercise 10- Insert a markdown cell to list Objectives</strong>"
   ]
  },
  {
   "cell_type": "markdown",
   "id": "190e7b40-b5ef-44f3-8a0a-93e801902d28",
   "metadata": {},
   "source": [
    "Below the introduction cell created in Exercise 3, insert a new markdown cell to list the objectives that this notebook covered (i.e. some of the key takeaways from the course). In this new cell start with an introductory line titled: Objectives: in bold font. Then using an unordered list (bullets) indicate 3 to 5 items covered in this notebook, such as List popular languages for Data Science."
   ]
  },
  {
   "cell_type": "markdown",
   "id": "8d18b590-c1ef-40ea-bcc9-e172a5903a58",
   "metadata": {},
   "source": [
    "<strong>Exercise 11- Create a markdown cell to indicate the Author's name</strong>"
   ]
  },
  {
   "cell_type": "markdown",
   "id": "6ea1580d-c77b-4cf7-bfee-4808eed775a0",
   "metadata": {},
   "source": [
    "<h2>Author:</h2> Carlos Santana De La Cruz"
   ]
  },
  {
   "cell_type": "code",
   "execution_count": null,
   "id": "03ee3a9b-17e7-4369-b29f-4ff1849686ae",
   "metadata": {},
   "outputs": [],
   "source": []
  },
  {
   "cell_type": "code",
   "execution_count": null,
   "id": "dbe10b7f-46e4-49a2-923a-b9ed71a49fec",
   "metadata": {},
   "outputs": [],
   "source": []
  },
  {
   "cell_type": "code",
   "execution_count": null,
   "id": "b3d38bc2-3eeb-4505-895b-cb3c02bd275e",
   "metadata": {},
   "outputs": [],
   "source": []
  },
  {
   "cell_type": "code",
   "execution_count": null,
   "id": "c6039011-9b85-4cca-8033-57352c0f45b2",
   "metadata": {},
   "outputs": [],
   "source": []
  },
  {
   "cell_type": "code",
   "execution_count": null,
   "id": "22d83398-2f1b-4880-8c79-cd1f6fe852fe",
   "metadata": {},
   "outputs": [],
   "source": []
  },
  {
   "cell_type": "code",
   "execution_count": null,
   "id": "fab63654-0c18-4258-8b8d-c8950bf56018",
   "metadata": {},
   "outputs": [],
   "source": []
  },
  {
   "cell_type": "code",
   "execution_count": null,
   "id": "3fbc387f-e5e3-42c2-8c54-c5d0910b7a53",
   "metadata": {},
   "outputs": [],
   "source": []
  },
  {
   "cell_type": "code",
   "execution_count": null,
   "id": "f9ca6f04-1e59-4bef-b342-9dfafff3e98b",
   "metadata": {},
   "outputs": [],
   "source": []
  },
  {
   "cell_type": "code",
   "execution_count": null,
   "id": "3aa00ad0-731d-47b2-886c-1ded4165b051",
   "metadata": {},
   "outputs": [],
   "source": []
  },
  {
   "cell_type": "code",
   "execution_count": null,
   "id": "40885a6d-c77b-4e14-bda6-f0732e9f7b0a",
   "metadata": {},
   "outputs": [],
   "source": []
  },
  {
   "cell_type": "code",
   "execution_count": null,
   "id": "642981a2-0b42-4e8c-aa30-445de1b3e3ae",
   "metadata": {},
   "outputs": [],
   "source": []
  },
  {
   "cell_type": "code",
   "execution_count": null,
   "id": "9162214b-a5fe-4792-865b-210a56e76c25",
   "metadata": {},
   "outputs": [],
   "source": []
  },
  {
   "cell_type": "code",
   "execution_count": null,
   "id": "a3861f88-0d44-4088-ba00-24bf5b336353",
   "metadata": {},
   "outputs": [],
   "source": []
  },
  {
   "cell_type": "code",
   "execution_count": null,
   "id": "b0261bb1-1a8e-43c1-80c1-b16ade4b74ed",
   "metadata": {},
   "outputs": [],
   "source": []
  },
  {
   "cell_type": "code",
   "execution_count": null,
   "id": "c874d60e-7cec-48ea-a1d0-cf8b7a60c4ea",
   "metadata": {},
   "outputs": [],
   "source": []
  },
  {
   "cell_type": "code",
   "execution_count": null,
   "id": "f5352246-94e4-4708-ac6c-60e8a162aae4",
   "metadata": {},
   "outputs": [],
   "source": []
  },
  {
   "cell_type": "code",
   "execution_count": null,
   "id": "92bf1777-34ff-4e9e-b900-6b3f227985fc",
   "metadata": {},
   "outputs": [],
   "source": []
  }
 ],
 "metadata": {
  "kernelspec": {
   "display_name": "Python 3 (ipykernel)",
   "language": "python",
   "name": "python3"
  },
  "language_info": {
   "codemirror_mode": {
    "name": "ipython",
    "version": 3
   },
   "file_extension": ".py",
   "mimetype": "text/x-python",
   "name": "python",
   "nbconvert_exporter": "python",
   "pygments_lexer": "ipython3",
   "version": "3.11.9"
  }
 },
 "nbformat": 4,
 "nbformat_minor": 5
}
